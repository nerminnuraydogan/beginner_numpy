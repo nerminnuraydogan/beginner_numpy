{
 "cells": [
  {
   "cell_type": "code",
   "execution_count": 19,
   "metadata": {},
   "outputs": [
    {
     "name": "stdout",
     "output_type": "stream",
     "text": [
      "[[10  3 20]\n",
      " [25 30 35]]\n"
     ]
    },
    {
     "data": {
      "text/plain": [
       "array([11, 12, 13, 14, 15, 16, 17, 18, 19, 20])"
      ]
     },
     "execution_count": 19,
     "metadata": {},
     "output_type": "execute_result"
    }
   ],
   "source": [
    "import numpy as np\n",
    "from numpy import newaxis\n",
    "\n",
    "a = np.arange(10, 40, 5).reshape(3, 2)\n",
    "\n",
    "for element in a.flat:\n",
    "    element # do something\n",
    "    \n",
    "type(a) # numpy.ndarray\n",
    "\n",
    "a.T # TRANSPOSE of a ***\n",
    "a.ravel() # out: array([10, 15, 20, 25, 30, 35]), returns array flattened\n",
    "\n",
    "a.resize(2, 3) # MODIFIES array, reshapes\n",
    "\n",
    "b = np.array([4.,2.])\n",
    "b.dtype # float64\n",
    "\n",
    "b[:, newaxis] # returns a 2D columns vector\n",
    "\n",
    "# np.hsplit() -> split along horizontal axis  boyunca\n",
    "# np.split() -> split along vertical axis, y eksenini kesicek şekilde düşün\n",
    "\n",
    "np.hsplit(a, 3)\n",
    "np.vsplit(a, 2)[0] # [[10 15 20]]\n",
    "\n",
    "c = a    # no new object is created\n",
    "c is a   # True, a and c are two names for the same ndarray object\n",
    "\n",
    "# Python passes mutable objects as references, so function calls make no copy\n",
    "\n",
    "d = a.view()\n",
    "# different array objects can share the same data\n",
    "d is a # false\n",
    "d[0, 1] = 3    # a's data changes\n",
    "\n",
    "\n",
    "e = a.copy()    # deep copy of a\n",
    "print(e)\n",
    "e[0, 1] = 7000 # a's data does not change\n",
    "\n",
    "# in order to copy or view\n",
    "# ------------------------\n",
    "# array.view(), array.copy()\n",
    "\n",
    "x = np.array([5])\n",
    "y = np.array([[5]])\n",
    "x.shape # (1,)\n",
    "y.shape # (1, 1)\n",
    "x.itemsize # 4\n",
    "\n",
    "i = np.array([0, 1]) # an indices array\n",
    "j = np.array([1, 2])\n",
    "a[i, j]    # array([ 3, 35])\n",
    "\n",
    "a.sum() # add all of the elements in the array, 123\n",
    "a.mean() # 20.5\n",
    "\n",
    "a.max(axis = 1) # array([20, 35])\n",
    "\n",
    "f = np.random.random(3) #[0.77190879 0.16670991 0.97683164]\n",
    "f.dtype # float64\n",
    "\n",
    "g = np.array([11, 11, 12, 13, 14, 15, 16, 17, 12, 13, 11, 14, 18, 19, 20])\n",
    "np.unique(g) # array([11, 12, 13, 14, 15, 16, 17, 18, 19, 20])"
   ]
  }
 ],
 "metadata": {
  "kernelspec": {
   "display_name": "Python 3",
   "language": "python",
   "name": "python3"
  },
  "language_info": {
   "codemirror_mode": {
    "name": "ipython",
    "version": 3
   },
   "file_extension": ".py",
   "mimetype": "text/x-python",
   "name": "python",
   "nbconvert_exporter": "python",
   "pygments_lexer": "ipython3",
   "version": "3.7.4"
  }
 },
 "nbformat": 4,
 "nbformat_minor": 4
}
