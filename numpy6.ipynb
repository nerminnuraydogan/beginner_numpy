{
 "cells": [
  {
   "cell_type": "code",
   "execution_count": 20,
   "metadata": {},
   "outputs": [
    {
     "name": "stdout",
     "output_type": "stream",
     "text": [
      "Help on built-in function max in module builtins:\n",
      "\n",
      "max(...)\n",
      "    max(iterable, *[, default=obj, key=func]) -> value\n",
      "    max(arg1, arg2, *args, *[, key=func]) -> value\n",
      "    \n",
      "    With a single iterable argument, return its biggest item. The\n",
      "    default keyword-only argument specifies an object to return if\n",
      "    the provided iterable is empty.\n",
      "    With two or more arguments, return the largest argument.\n",
      "\n"
     ]
    }
   ],
   "source": [
    "import numpy as np\n",
    "\n",
    "a = np.array([11, 11, 12, 13, 14, 15, 16, 17, 12, 13, 11, 14, 18, 19, 20])\n",
    "\n",
    "# indices of unique elements\n",
    "indices_list = np.unique(a, return_index=True)\n",
    "\n",
    "a_2d = np.array([[1, 2, 3, 4], \n",
    "                 [5, 6, 7, 8], \n",
    "                 [9, 10, 11, 12]])\n",
    "\n",
    "# with axis we specified what we want\n",
    "unique_rows = np.unique(a_2d, axis=0)\n",
    "\n",
    "b = np.linspace(0, 10, 5)\n",
    "\n",
    "# REVERSE ARRAY -> np.flip()\n",
    "reversed_array = np.flip(b)\n",
    "\n",
    "# reverse the content in all of the rows and all of the columns\n",
    "reversed_2d_arr = np.flip(a_2d)\n",
    "reversed_2d_arr\n",
    "# [[12 11 10  9]\n",
    "#  [ 8  7  6  5]\n",
    "#  [ 4  3  2  1]]\n",
    "\n",
    "# reverse only rows\n",
    "revrs_row_arr = np.flip(a_2d, axis = 0)\n",
    "# reverse only columns\n",
    "revrs_col_arr = np.flip(a_2d, axis = 1)\n",
    "\n",
    "# reverse the contents of only one column or row\n",
    "# for example, reverse row at index poisiton 1, (2nd row)\n",
    "a_2d[1] = np.flip(a_2d[1])\n",
    "\n",
    "# reverse column at index 1, 2nd column\n",
    "a_2d[:,1] = np.flip(a_2d[:,1])\n",
    "\n",
    "a.flatten() # flatten array into 1D array\n",
    "\n",
    "# when you use ravel, the changes you make to the new array will affect the parent array\n",
    "a_new = a_2d.ravel()\n",
    "\n",
    "# changes to a_new will affect a_2d\n",
    "\n",
    "''' Every object contains the reference to a string, which is known as the docstring. \n",
    "In most cases, this docstring contains a quick and concise summary of the object and how to use it. \n",
    "Python has a built-in help() function that can help you access this information'''\n",
    "\n",
    "help(max)"
   ]
  }
 ],
 "metadata": {
  "kernelspec": {
   "display_name": "Python 3",
   "language": "python",
   "name": "python3"
  },
  "language_info": {
   "codemirror_mode": {
    "name": "ipython",
    "version": 3
   },
   "file_extension": ".py",
   "mimetype": "text/x-python",
   "name": "python",
   "nbconvert_exporter": "python",
   "pygments_lexer": "ipython3",
   "version": "3.7.4"
  }
 },
 "nbformat": 4,
 "nbformat_minor": 4
}
