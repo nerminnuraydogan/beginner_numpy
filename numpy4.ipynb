{
 "cells": [
  {
   "cell_type": "code",
   "execution_count": 1,
   "metadata": {},
   "outputs": [
    {
     "name": "stdout",
     "output_type": "stream",
     "text": [
      "[[10 15]\n",
      " [20 25]\n",
      " [30 35]]\n"
     ]
    }
   ],
   "source": [
    "import numpy as np\n",
    "\n",
    "a = np.arange(10, 40, 5).reshape(3, 2)\n",
    "print(a)\n",
    "a.sum() # 135\n",
    "a.sum(axis = 0) # [60 75], sum of each column\n",
    "a.sum(axis = 1) # [25 45 65] sum of each row\n",
    "\n",
    "a.min() # 10\n",
    "a.min(axis = 1) # [10 20 30]\n",
    "a.min(axis = 0)[1] # 15\n",
    "\n",
    "# cumulative sum along each row ***\n",
    "a.cumsum(axis = 1)\n",
    "\n",
    "# cumulative sum along each column ***\n",
    "a.cumsum(axis = 0)\n",
    "\n",
    "np.exp(a) # elementwise exponential\n",
    "np.sqrt(a) # elemtwise square root\n",
    "\n",
    "\n",
    "def func(x, y):\n",
    "    return 10 * x + y\n",
    "\n",
    "\n",
    "# **VERY NICE \n",
    "b = np.fromfunction(func, (3, 5), dtype=int) \n",
    "# returned 3x5 matrix\n",
    "# each element obtained by coordinates applied to function given\n",
    "\n",
    "\n",
    "# indexing\n",
    "b[2][3]\n",
    "b[2, 3] # 3rd row, 4th column\n",
    "b[:, 1] # each row in the second column of b\n",
    "b[2, :] # each column in the third row of b\n",
    "\n",
    "h = np.array([[[7, 8, 9],\n",
    "               [19, 20, 21]],\n",
    "            \n",
    "              [[1, 2, 3],\n",
    "               [18, 17, 16]],\n",
    "             \n",
    "              [[4, 5, 6],\n",
    "               [24, 23, 22]]])\n",
    "\n",
    "            \n",
    "# *** array.flat *** \n",
    "# to perform on operation on each element\n",
    "for element in b.flat:\n",
    "    element # do operation\n",
    "\n"
   ]
  }
 ],
 "metadata": {
  "kernelspec": {
   "display_name": "Python 3",
   "language": "python",
   "name": "python3"
  },
  "language_info": {
   "codemirror_mode": {
    "name": "ipython",
    "version": 3
   },
   "file_extension": ".py",
   "mimetype": "text/x-python",
   "name": "python",
   "nbconvert_exporter": "python",
   "pygments_lexer": "ipython3",
   "version": "3.7.4"
  }
 },
 "nbformat": 4,
 "nbformat_minor": 4
}
