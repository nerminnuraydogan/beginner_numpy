{
 "cells": [
  {
   "cell_type": "code",
   "execution_count": 2,
   "metadata": {},
   "outputs": [],
   "source": [
    "import numpy as np"
   ]
  },
  {
   "cell_type": "code",
   "execution_count": 19,
   "metadata": {},
   "outputs": [
    {
     "name": "stdout",
     "output_type": "stream",
     "text": [
      "[3 4]\n",
      "(3, 4)\n",
      "[[False False False False]\n",
      " [ True  True  True  True]\n",
      " [ True  True  True  True]]\n",
      "[ 5  6  7  8  9 10 11 12]\n",
      "[ True  True  True  True  True False]\n"
     ]
    }
   ],
   "source": [
    "\n",
    "arr = np.array([[[0, 1, 2, 3],\n",
    "                 [4, 5, 6, 7]],\n",
    "            \n",
    "                [[2, 7, 8, 9], \n",
    "                 [5, 8, 4, 1]],\n",
    "             \n",
    "                [[0, 1, 2, 3],\n",
    "                 [4, 5, 6,7 ]]])\n",
    "\n",
    "arr.ndim # out: 3\n",
    "arr.size # out: 24\n",
    "arr.shape # out: (3, 2, 4)\n",
    "\n",
    "# when you use the reshape method, \n",
    "# the array you want to produce needs to have the same number of elements as the original array\n",
    "\n",
    "a = np.arange(6)\n",
    "\n",
    "b = a.reshape(3, 2) # RESHAPE ARRAY\n",
    "# output: [[0 1]\n",
    "#          [2 3]\n",
    "#          [4 5]]\n",
    "\n",
    "a.shape # out: (6,)\n",
    "\n",
    "row_vector = a[np.newaxis, :]\n",
    "row_vector.shape    # (1, 6)\n",
    "\n",
    "\n",
    "column_vector = a[:, np.newaxis]\n",
    "column_vector.shape # (6, 1)\n",
    "\n",
    "# using np.newaxis will increase the of your array by one dimension\n",
    "\n",
    "c = np.expand_dims(a, axis=0)\n",
    "c.shape # (1, 6)\n",
    "\n",
    "d = np.expand_dims(a, axis=1)\n",
    "d.shape # (6, 1)\n",
    "\n",
    "data = np.array([1, 2, 3, 4])\n",
    "print(data[-2:]) # [3 4]\n",
    "\n",
    "data[data < 3] # *** array([1, 2])\n",
    "\n",
    "e = np.array([[1 , 2, 3, 4], [5, 6, 7, 8], [9, 10, 11, 12]])\n",
    "print(e.shape)\n",
    "e[e < 7] # out: array([1, 2, 3, 4, 5, 6])\n",
    "\n",
    "five_up = (e >= 5)\n",
    "print(five_up)\n",
    "# [[False False False False]\n",
    "#  [ True  True  True  True]\n",
    "#  [ True  True  True  True]]\n",
    "\n",
    "print(e[five_up])  # output: [ 5  6  7  8  9 10 11 12]\n",
    "\n",
    "new_try =  a <= 4\n",
    "print(new_try) # [ True  True  True  True  True False]\n",
    "\n",
    "\n",
    "\n"
   ]
  }
 ],
 "metadata": {
  "kernelspec": {
   "display_name": "Python 3",
   "language": "python",
   "name": "python3"
  },
  "language_info": {
   "codemirror_mode": {
    "name": "ipython",
    "version": 3
   },
   "file_extension": ".py",
   "mimetype": "text/x-python",
   "name": "python",
   "nbconvert_exporter": "python",
   "pygments_lexer": "ipython3",
   "version": "3.7.4"
  }
 },
 "nbformat": 4,
 "nbformat_minor": 4
}
