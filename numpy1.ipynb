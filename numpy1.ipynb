{
 "cells": [
  {
   "cell_type": "code",
   "execution_count": 1,
   "metadata": {},
   "outputs": [],
   "source": [
    "import numpy as np\n"
   ]
  },
  {
   "cell_type": "code",
   "execution_count": 30,
   "metadata": {},
   "outputs": [
    {
     "name": "stdout",
     "output_type": "stream",
     "text": [
      "1\n"
     ]
    }
   ],
   "source": [
    "arr = np.array([1, 2, 3, 4])\n",
    "\n",
    "# important notes \n",
    "# ---------------\n",
    "# dimensions are called axes\n",
    "# elements are all of the same type, dtype\n",
    "# rank of the array is the number of dimensions\n",
    "# shape of the array is a tuple of integers giving the size of the array along each dimension\n",
    "\n",
    "\n",
    "\n",
    "# we can access the elements in the array using square brackets\n",
    "print(arr[0])\n",
    "\n",
    "b_arr = np.array([[7, 2, 3], [4, 5, 6], [7, 8, 9]])\n",
    "\n",
    "# ex : has 2 axes, the first axis has a length of 2 and the second axis has a length of 3.\n",
    "an_arr = [[0., 0., 0.],\n",
    "          [1., 1., 1.]]\n",
    "\n",
    "\n",
    "# just like in other Python container objects, \n",
    "# the contents of an array can be accessed and modified by indexing or slicing the array\n",
    "\n",
    "x_arr = np.zeros(2) # an array filled with 0s, output: [0., 0.]\n",
    "y_arr = np.ones(3) # an array filled with 1s, output: [1. 1. 1.]\n",
    "\n",
    "# an array that contains a range of evenly spaced intervals\n",
    "z_arr = np.arange(2, 9, 2) # specify the first number, last number, and the step size\n",
    "\n",
    "#output: [2 4 6 8]\n",
    "\n",
    "# *** default data type is floating point (float64)\n",
    "\n",
    "# to sort array use np.sort(array)\n",
    "\n",
    "a = np.array([9, 2, 3, 4])\n",
    "b = np.array([5, 6, 7, 8])\n",
    "\n",
    "\n",
    "# to sort -> np.sort(array) --- returns sorted array afterwards, it does not change array\n",
    "\n",
    "# to concatenate -> np.concatenate((first_arr, second_arr))\n",
    "# all the input arrays must have same number of dimensions\n",
    "\n",
    "\n",
    "\n",
    "\n"
   ]
  }
 ],
 "metadata": {
  "kernelspec": {
   "display_name": "Python 3",
   "language": "python",
   "name": "python3"
  },
  "language_info": {
   "codemirror_mode": {
    "name": "ipython",
    "version": 3
   },
   "file_extension": ".py",
   "mimetype": "text/x-python",
   "name": "python",
   "nbconvert_exporter": "python",
   "pygments_lexer": "ipython3",
   "version": "3.7.4"
  }
 },
 "nbformat": 4,
 "nbformat_minor": 4
}
